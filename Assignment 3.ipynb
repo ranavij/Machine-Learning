{
 "cells": [
  {
   "cell_type": "code",
   "execution_count": 1,
   "metadata": {},
   "outputs": [
    {
     "name": "stdout",
     "output_type": "stream",
     "text": [
      "Conditional Probability =  0.0303030303030303\n"
     ]
    }
   ],
   "source": [
    "#Qestion 1\n",
    "\n",
    "import numpy as np\n",
    "pa = 11/36\n",
    "pb = 6/36\n",
    "pab = 2/36\n",
    "def condprob(a,b,c):\n",
    "     print('Conditional Probability = ',(c*b)/a)\n",
    "condprob(pa,pb,pab)\n"
   ]
  },
  {
   "cell_type": "code",
   "execution_count": 2,
   "metadata": {},
   "outputs": [
    {
     "name": "stdout",
     "output_type": "stream",
     "text": [
      "Probablity that ball drawn is from bag 1 =  0.5833333333333334\n"
     ]
    }
   ],
   "source": [
    "#Question 2\n",
    "\n",
    "white1 = 4\n",
    "black1 = 6\n",
    "white2 = 4\n",
    "black2 = 3\n",
    "pb1=1/2 \n",
    "pb2=1/2 \n",
    "b2=3/7\n",
    "b1=6/10 \n",
    "\n",
    "pb=(b1*pb1)/((pb1*b1)+(pb2*b2))\n",
    "print(\"Probablity that ball drawn is from bag 1 = \",pb)\n"
   ]
  },
  {
   "cell_type": "code",
   "execution_count": 3,
   "metadata": {},
   "outputs": [
    {
     "name": "stdout",
     "output_type": "stream",
     "text": [
      "Probablity that no. obtained is actually 4 =  0.2857142857142857\n"
     ]
    }
   ],
   "source": [
    "#Question 3\n",
    "\n",
    "p4=1/6\n",
    "pn4=5/6\n",
    "pt=2/3\n",
    "pnt=1/3\n",
    "Pf=(p4*pt)/((p4*pt)+(pn4*pnt))\n",
    "print(\"Probablity that no. obtained is actually 4 = \",Pf)\n"
   ]
  },
  {
   "cell_type": "code",
   "execution_count": null,
   "metadata": {},
   "outputs": [],
   "source": []
  }
 ],
 "metadata": {
  "kernelspec": {
   "display_name": "Python 3",
   "language": "python",
   "name": "python3"
  },
  "language_info": {
   "codemirror_mode": {
    "name": "ipython",
    "version": 3
   },
   "file_extension": ".py",
   "mimetype": "text/x-python",
   "name": "python",
   "nbconvert_exporter": "python",
   "pygments_lexer": "ipython3",
   "version": "3.7.2"
  }
 },
 "nbformat": 4,
 "nbformat_minor": 2
}
